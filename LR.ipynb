{
  "cells": [
    {
      "metadata": {
        "trusted": true
      },
      "cell_type": "code",
      "source": "import numpy as np\nimport pandas as pd\nfrom math import log\nimport matplotlib.pyplot as plt",
      "execution_count": 1,
      "outputs": []
    },
    {
      "metadata": {
        "trusted": true
      },
      "cell_type": "code",
      "source": "#Reading the dataset\n\ndata=pd.read_csv(\"data.txt\",header=None)\nclass0=data[data.iloc[:,-1]==0]\nclass1=data[data.iloc[:,-1]==1]\ndata=np.asarray(data)\nnp.random.shuffle(data)",
      "execution_count": 2,
      "outputs": []
    },
    {
      "metadata": {
        "trusted": true
      },
      "cell_type": "code",
      "source": "#Normalizing the Data(Feature Scaling)\n\nfor i in range(np.shape(data)[1]-1):\n     column = data[:, i]\n     # data[:, i] = (column - column.min()) / (column.max() - column.min())   #min-max normalisation\n     data[:, i] = (column - np.mean(column)) / np.std(column)  #Z-score Normalisation\n",
      "execution_count": 3,
      "outputs": []
    },
    {
      "metadata": {
        "trusted": true
      },
      "cell_type": "code",
      "source": "#Model Parameters\n\nepochs=2500\nloss_train = []\nALPHA=1\nw = np.zeros(5,dtype=float)   #Initialising the weights",
      "execution_count": 4,
      "outputs": []
    },
    {
      "metadata": {
        "trusted": true
      },
      "cell_type": "code",
      "source": "#Test-Train Split\n\nx=data[:,0:4]\ny=data[:,4]\nX_train, X_test=x[:int(0.8*len(x))],x[int(0.8*len(x)):]\ny_train, y_test=y[:int(0.8*len(x))],y[int(0.8*len(x)):]\nX_train = np.insert(X_train, 0, 1, axis=1)\nX_test = np.insert(X_test, 0, 1, axis=1)\n",
      "execution_count": 5,
      "outputs": []
    },
    {
      "metadata": {
        "trusted": true
      },
      "cell_type": "code",
      "source": "#Sigmoid Function\n\ndef sigmoid(x):\n    func=1/(1+np.exp(-x))\n    return func\n\n#Loss Function for Logistic Regression\n\ndef error(h,y):\n    error=-(y*log(h)+((1-y)*log(1-h)))\n    return error",
      "execution_count": 6,
      "outputs": []
    },
    {
      "metadata": {
        "trusted": true
      },
      "cell_type": "code",
      "source": "#Logistic Regression Model\n\ndef model(x,y):\n    loss=0\n    delta = np.zeros(5, dtype=float)\n    for i in range(len(y)):\n        h = np.dot(w,x[i])\n        h = sigmoid(h)\n        loss += 1/len(y)*error(h,y[i])\n        for j in range(len(delta)):\n            delta[j] += 1 /len(y)*(h - y[i])*x[i][j]\n\n    return loss, delta\n",
      "execution_count": 7,
      "outputs": []
    },
    {
      "metadata": {
        "trusted": true
      },
      "cell_type": "code",
      "source": "#Logistic Regression with L1 Regularization\n\ndef L1_reg(x,y,lambdA=0.2):\n\n    loss=0\n    delta = np.zeros(5, dtype=float)\n    for i in range(len(y)):\n        h = np.dot(w, x[i])\n        h = sigmoid(h)\n        loss += 1 / len(y) * error(h, y[i])\n        for j in range(len(delta)):\n            delta[j] += 1 / len(y) * (h - y[i]) *x[i][j]\n    loss += (1 / len(y)) * (lambdA * np.sum(abs(w)))\n\n    for j in range(len(delta)):\n        delta[j] += 1 / len(y)*(lambdA*np.sign(w[j]))\n\n    return loss,delta",
      "execution_count": 8,
      "outputs": []
    },
    {
      "metadata": {
        "trusted": true
      },
      "cell_type": "code",
      "source": "#Logistic Regression with L2 Regularization\n\ndef L2_reg(x,y,lambdA=0.2):\n\n    loss = 0\n    delta = np.zeros(5, dtype=float)\n\n    for i in range(len(y)):\n        h = np.dot(w, x[i])\n        h = sigmoid(h)\n        loss += 1 / len(y) * error(h, y[i])\n        for j in range(len(delta)):\n            delta[j] += 1 / len(y) * (h - y[i]) *x[i][j]\n\n    loss += 1 / len(y) * ((lambdA / 2) * np.sum(w ** 2))\n\n    for j in range(len(delta)):\n        delta[j] += 1 / len(y)*(lambdA*w[j])\n\n\n    return loss,delta",
      "execution_count": 9,
      "outputs": []
    },
    {
      "metadata": {
        "trusted": true
      },
      "cell_type": "code",
      "source": "#Running the Model for given No. of epochs\n\nfor i in range(epochs):\n    #print(i)\n\n    #Change the Model Type here:\n\n    # loss,delta=model(X_train,y_train)\n    # loss, delta = L1_reg(X_train, y_train,lambdA=0.01)\n    loss, delta = L2_reg(X_train, y_train,lambdA=0.01)\n\n    #Weight Update Rule\n\n    for k in range(len(w)):\n        w[k] = w[k] - ALPHA * delta[k]\n    loss_train.append(loss)\n",
      "execution_count": 11,
      "outputs": []
    },
    {
      "metadata": {
        "trusted": true
      },
      "cell_type": "code",
      "source": "#Testing the Model on the validation set\n\nTN, FN, TP, FP = 0,0,0,0\n\nfor i in range(len(X_test)):\n    y_ = np.dot(w,X_test[i])\n    y_ = sigmoid(y_)\n\n    #Decision  Rule\n    if(y_>=0.5):\n        y_ = 1\n    else:\n        y_ = 0\n\n\n    if(y_==1 and y_test[i]==1): TP += 1\n    if(y_==0 and y_test[i]==0): TN += 1\n    if(y_==1 and y_test[i]==0): FP += 1\n    if(y_==0 and y_test[i]==1): FN += 1",
      "execution_count": 12,
      "outputs": []
    },
    {
      "metadata": {
        "trusted": true
      },
      "cell_type": "code",
      "source": "#Calculating F-score and the Accuracy\n\nP=TP/(TP+FP)\nR=TP/(TP+FN)\nF=(2*P*R)/(P+R)\naccuracy = (TP+TN)/(TP + TN + FP + FN)\n\n#Plotting the loss function vs Epochs\n\nplt.plot(loss_train)\nplt.title(\"Loss Function\")\nplt.xlabel(\"Epochs\")\nplt.ylabel(\"Loss\")\nplt.savefig(\"Loss Function of Logistic Regression\")\nplt.show()\n\n\nprint(\"F-score:\",F)\nprint(\"Accuracy:\",accuracy)\nprint(\"Weights\",w)\n",
      "execution_count": 13,
      "outputs": [
        {
          "output_type": "display_data",
          "data": {
            "image/png": "[encoded data removed]",
            "text/plain": "<Figure size 432x288 with 1 Axes>"
          },
          "metadata": {
            "needs_background": "light"
          }
        },
        {
          "output_type": "stream",
          "text": "F-score: 0.9830508474576272\nAccuracy: 0.9854545454545455\nWeights [ -4.05753366  -9.06128276 -10.0048515   -9.02237587  -0.03204264]\n",
          "name": "stdout"
        }
      ]
    },
    {
      "metadata": {
        "trusted": true
      },
      "cell_type": "code",
      "source": "",
      "execution_count": null,
      "outputs": []
    }
  ],
  "metadata": {
    "kernelspec": {
      "name": "python36",
      "display_name": "Python 3.6",
      "language": "python"
    },
    "language_info": {
      "mimetype": "text/x-python",
      "nbconvert_exporter": "python",
      "name": "python",
      "pygments_lexer": "ipython3",
      "version": "3.6.6",
      "file_extension": ".py",
      "codemirror_mode": {
        "version": 3,
        "name": "ipython"
      }
    }
  },
  "nbformat": 4,
  "nbformat_minor": 1
}