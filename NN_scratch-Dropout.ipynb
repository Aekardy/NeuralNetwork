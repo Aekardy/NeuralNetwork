{
  "cells": [
    {
      "metadata": {
        "trusted": true
      },
      "cell_type": "code",
      "source": "import numpy as np\nimport pandas as pd\nfrom sklearn import preprocessing\nimport matplotlib.pyplot as plt\nfrom sklearn.model_selection import train_test_split",
      "execution_count": 88,
      "outputs": []
    },
    {
      "metadata": {
        "trusted": true
      },
      "cell_type": "code",
      "source": "def drop_out(layer_data, m, keep_prob):\n    np.random.seed(2)\n    D = {}\n    L = len(layer_data)\n    for i in range(L):\n        D[str(i)] = np.random.rand(layer_data[i], m)\n        D[str(i)] = D[str(i)]<keep_prob[i]\n    return D",
      "execution_count": 101,
      "outputs": []
    },
    {
      "metadata": {
        "trusted": true
      },
      "cell_type": "code",
      "source": "def sigmoid(z):\n    A = 1/(1+np.exp(-z))\n    cache = z                      #cache is helpful to keep track in backprop\n    return A,cache\n\ndef relu(z):\n    A = np.maximum(0,z)\n    cache = z\n    return A,cache\n\ndef tanh(z):\n    A = np.tanh(z)\n    cache = z\n    return A,cache",
      "execution_count": 90,
      "outputs": []
    },
    {
      "metadata": {
        "trusted": true
      },
      "cell_type": "code",
      "source": "def back_sigmoid(dA, cache):              #calculates derivative for backprop\n    z = cache\n    s = 1/(1+np.exp(-z))\n    dz = dA*s*(1-s)\n    return dz\n\ndef back_relu(dA, cache):\n    z = cache\n    dz = np.array(dA, copy=True)    \n    dz[z<=0] = 0                    #set values to zero which are negative\n    return dz\n\ndef back_tanh(dA, cache):\n    z = cache\n    s = np.tanh(z)\n    dz = dA*(1-np.square(s))\n    return dz",
      "execution_count": 91,
      "outputs": []
    },
    {
      "metadata": {
        "trusted": true
      },
      "cell_type": "code",
      "source": "def ini_params_deep(layer_data):\n    np.random.seed(1)\n    params = {}\n    L = len(layer_data)       #no. of layers for finding how many w and b\n    for i in range(1,L):\n        params['w'+str(i)] = ((np.random.randn(layer_data[i],layer_data[i-1]))/np.sqrt(layer_data[i-1]))  #initialize randomly \n        params['b'+str(i)] = (np.zeros((layer_data[i],1)))               #set b to 0 initially\n    return params",
      "execution_count": 92,
      "outputs": []
    },
    {
      "metadata": {
        "trusted": true
      },
      "cell_type": "code",
      "source": "def lin_fwd(A,w,b):\n    Z = w.dot(A) + b           #the linear caclculation part\n    cache = (A,w,b)            #store the result which helps in backprop\n    return Z,cache\n\ndef lin_act_fwd(A_last,w,b,act):          #activation functions\n    if act=='sigmoid':\n        Z,lin_cache = lin_fwd(A_last,w,b)\n        A,act_cache = sigmoid(Z)\n    elif act=='relu':\n        Z,lin_cache = lin_fwd(A_last,w,b)\n        A,act_cache = relu(Z)\n    elif act=='tanh':\n        Z,lin_cache = lin_fwd(A_last,w,b)\n        A,act_cache = tanh(Z)\n     \n    cache = (lin_cache,act_cache)           #store, helpful during backprop\n    return A, cache\n\ndef L_model_fwd_drop(X,params,D,keep_prob):            #integrates all the above for the calculation of forward propagation\n    caches = []\n    A = X\n    A = np.multiply(A, D[str(0)])\n    A /= keep_prob[0]\n    L = len(params)//2           #calculate the no. of layers, divide by 2 because of w and b\n    for i in range(1,L):\n        A_last = A\n        A, cache = lin_act_fwd(A_last, params['w'+str(i)], params['b'+str(i)], 'relu')      #call linear function\n        A = np.multiply(A, D[str(i)])\n        A /= keep_prob[i]\n        caches.append(cache)\n    Al, cache = lin_act_fwd(A, params['w'+str(L)], params['b'+str(L)], 'sigmoid')       #call the activation\n    Al = np.multiply(Al, D[str(L)])\n    Al /= keep_prob[L]\n    caches.append(cache)                         #caches keep store of the values, useful for backprop\n    return Al, caches\n\ndef L_model_fwd(X,params):            #integrates all the above for the calculation of forward propagation\n    caches = []\n    A = X\n    L = len(params)//2           #calculate the no. of layers, divide by 2 because of w and b\n    for i in range(1,L):\n        A_last = A\n        A, cache = lin_act_fwd(A_last, params['w'+str(i)], params['b'+str(i)], 'relu')      #call linear function\n        caches.append(cache)\n    Al, cache = lin_act_fwd(A, params['w'+str(L)], params['b'+str(L)], 'sigmoid')       #call the activation\n    caches.append(cache)                         #caches keep store of the values, useful for backprop\n    return Al, caches",
      "execution_count": 93,
      "outputs": []
    },
    {
      "metadata": {
        "trusted": true
      },
      "cell_type": "code",
      "source": "def cost(Al,Y):\n    m = Y.shape[1]\n    cost = (-np.dot(Y,np.log(Al).T) - np.dot((1-Y),np.log(1-Al).T))/m        #the cost function for binary classifier \n    return cost",
      "execution_count": 94,
      "outputs": []
    },
    {
      "metadata": {
        "trusted": true
      },
      "cell_type": "code",
      "source": "def lin_back(dz, cache):                 #part of backprop that finds the derivatives\n    A_last, w, b = cache\n    m = A_last.shape[1]\n    dw = (1./m)*np.dot(dz,A_last.T)                     #derivative for w\n    db = (1./m)*np.sum(dz, axis=1, keepdims=True)       #derivative for b\n    dA_last = np.dot(w.T,dz)                           #derivative of A or activation\n    return dA_last, dw, db\n\ndef lin_act_back(dA, cache, act):                #calls the various derivative functions\n    lin_cache, act_cache = cache                #recalls the two caches from cache\n    if act == 'relu':\n        dz = back_relu(dA, act_cache)\n        dA_last, dw, db = lin_back(dz, lin_cache)\n    elif act == 'sigmoid':\n        dz = back_sigmoid(dA, act_cache)\n        dA_last, dw, db = lin_back(dz, lin_cache)\n    elif act == 'tanh':\n        dz = back_tanh(dA, act_cache)\n        dA_last, dw, db = lin_back(dz, lin_cache)\n    return dA_last, dw, db\n\ndef L_model_back(Al, Y, caches,D,keep_prob):                       #the main backward propagation\n    grads = {}\n    L = len(caches)\n    m = Al.shape[1]\n    Y = Y.reshape(Al.shape)\n    dAl = -(np.divide(Y,Al) - np.divide((1-Y),(1-Al)))        #derivative for final layer\n    dAl = np.multiply(dAl, D[str(L)])\n    dAl /= keep_prob[L]\n    curr_cache = caches[L-1]\n    grads['dA'+str(L)], grads['dw'+str(L)], grads['db'+str(L)] = lin_act_back(dAl, curr_cache, 'sigmoid')\n    grads['dA'+str(L)] = np.multiply(grads['dA'+str(L)], D[str(L)])\n    grads['dA'+str(L)] /= keep_prob[L]\n    for i in reversed(range(L-1)):                           #start in reversed for backward prop\n        curr_cache = caches[i]\n        dA_last_temp, dw_temp, db_temp = lin_act_back(grads['dA'+str(i+2)], curr_cache, 'relu')\n        grads['dA'+str(i+1)] = dA_last_temp\n        grads['dA'+str(i+2)] = np.multiply(grads['dA'+str(i+2)], D[str(i+2)])\n        grads['dA'+str(i+2)] /= keep_prob[i+2]\n        grads['dw'+str(i+1)] = dw_temp\n        grads['db'+str(i+1)] = db_temp\n    return grads                                #grads contains dw, db, and dA\n\ndef update(params, grads, lr):              #lr is learning rate\n    L = len(params)//2\n    for i in range(L):\n        params['w'+str(i+1)] = params['w'+str(i+1)] - lr*grads['dw'+str(i+1)]        #update rule for w\n        params['b'+str(i+1)] = params['b'+str(i+1)] - lr*grads['db'+str(i+1)]       #update rule for b\n    return params",
      "execution_count": 113,
      "outputs": []
    },
    {
      "metadata": {
        "trusted": true
      },
      "cell_type": "code",
      "source": "def predict(X, y, params):                         #the prediction function for test set\n    m = X.shape[1]\n    #n = len(params)\n    p = np.zeros((1,m))                            #the predicted output\n    probs, caches = L_model_fwd(X, params)\n    for i in range(0, probs.shape[1]):\n        if probs[0,i]>0.5:\n            p[0,i] = 1\n        else:\n            p[0,i] = 0\n    return p",
      "execution_count": 114,
      "outputs": []
    },
    {
      "metadata": {
        "trusted": true
      },
      "cell_type": "code",
      "source": "def L_layer(X, Y, layer_data, keep_prob, lr, num_iter, print_cost=False ):   #train the neural network\n    np.random.seed(3)\n    m = X.shape[1]\n    costs = []\n    params = ini_params_deep(layer_data)\n    for i in range(0, num_iter):\n        D = drop_out(layer_data, m, keep_prob)\n        Al, caches = L_model_fwd_drop(X, params, D, keep_prob)\n        cost_compute = cost(Al,Y)\n        grads = L_model_back(Al, Y, caches, D, keep_prob)\n        params = update(params, grads, lr)\n        if (print_cost and i%100) == 0:\n            print('Cost after iteration %i: %f' %(i, cost_compute))       #print the value of costs after 100 iterations\n        if (print_cost and i%100) == 0:\n            costs.append(cost_compute)\n    plt.plot(np.squeeze(costs))                    #plot the costs vs. iterations\n    plt.ylabel('cost')\n    plt.xlabel('iterations(per tens)')\n    plt.title('learning rate = '+str(lr))\n    plt.show()\n    return params",
      "execution_count": 115,
      "outputs": []
    },
    {
      "metadata": {
        "trusted": true
      },
      "cell_type": "code",
      "source": "def data():\n    data_orig = pd.read_csv('housepricedata.csv')           #read data in pandas dataframe\n    X_orig = data_orig.iloc[:,0:10].values                  #convert to numpy array\n    m = X_orig.shape[0]\n    Y_orig = data_orig.iloc[:,10].values.reshape(m,1)\n    X_train, X_test, Y_train, Y_test = train_test_split(X_orig, Y_orig, test_size=0.2)       #randomly split into 80-20 train-test set \n    scale = preprocessing.StandardScaler().fit(X_train)\n    X_train_new = scale.transform(X_train)                #after processing the data using skLearn library\n    X_test_new = scale.transform(X_test)                  #for getting a standard data range for all the features\n    X = X_train_new.T\n    Y = Y_train.T\n    X_t = X_test_new.T\n    Y_t = Y_test.T\n    n_x = X.shape[0]                  #input nodes\n    n_y = Y.shape[0]                #output nodes\n    layer_data = [n_x,25, 25, n_y]         #specifies how many layers and how many nodes in each layer\n    return X, Y, X_t, Y_t, layer_data",
      "execution_count": 116,
      "outputs": []
    },
    {
      "metadata": {
        "trusted": true,
        "scrolled": false
      },
      "cell_type": "code",
      "source": "X, Y, X_t, Y_t, layer_data = data()        #get the data\n\nprint(layer_data)                         #prints the no. of layers and hidden nodes in each\nkeep_prob = [1,1,0.5,1]\n\nparams = L_layer(X,Y,layer_data,keep_prob,0.005,5000,True)         #train the data and find the parameters\n\np = predict(X_t, Y_t, params)                         #find the predicted output on the test set\nTP = np.sum(np.logical_and(p==1,Y_t==1))              #true positive\nTN = np.sum(np.logical_and(p==0,Y_t==0))              #true negative\nFP = np.sum(np.logical_and(p==1,Y_t==0))              #false positive\nFN = np.sum(np.logical_and(p==0,Y_t==1))              #false negative\n\nP=TP/(TP+FP)                                          #precision\nR=TP/(TP+FN)                                          #recall\nF=(2*P*R)/(P+R)                                       #F-score\naccuracy = (TP+TN)/(TP + TN + FP + FN)                #accuracy\nprint(\"The F-score: %f and accuracy: %f\" %(F,accuracy))",
      "execution_count": 118,
      "outputs": [
        {
          "output_type": "stream",
          "text": "/home/nbuser/anaconda3_501/lib/python3.6/site-packages/sklearn/utils/validation.py:595: DataConversionWarning: Data with input dtype int64 was converted to float64 by StandardScaler.\n  warnings.warn(msg, DataConversionWarning)\n/home/nbuser/anaconda3_501/lib/python3.6/site-packages/sklearn/utils/validation.py:595: DataConversionWarning: Data with input dtype int64 was converted to float64 by StandardScaler.\n  warnings.warn(msg, DataConversionWarning)\n/home/nbuser/anaconda3_501/lib/python3.6/site-packages/sklearn/utils/validation.py:595: DataConversionWarning: Data with input dtype int64 was converted to float64 by StandardScaler.\n  warnings.warn(msg, DataConversionWarning)\n",
          "name": "stderr"
        },
        {
          "output_type": "stream",
          "text": "[10, 25, 25, 1]\nCost after iteration 0: 0.868856\nCost after iteration 100: 0.769541\nCost after iteration 200: 0.711470\nCost after iteration 300: 0.665667\nCost after iteration 400: 0.625377\nCost after iteration 500: 0.588460\nCost after iteration 600: 0.553333\nCost after iteration 700: 0.519918\nCost after iteration 800: 0.488609\nCost after iteration 900: 0.459666\nCost after iteration 1000: 0.433832\nCost after iteration 1100: 0.411356\nCost after iteration 1200: 0.392427\nCost after iteration 1300: 0.376662\nCost after iteration 1400: 0.363551\nCost after iteration 1500: 0.352620\nCost after iteration 1600: 0.343546\nCost after iteration 1700: 0.335890\nCost after iteration 1800: 0.329301\nCost after iteration 1900: 0.323598\nCost after iteration 2000: 0.318587\nCost after iteration 2100: 0.314134\nCost after iteration 2200: 0.310053\nCost after iteration 2300: 0.306252\nCost after iteration 2400: 0.302709\nCost after iteration 2500: 0.299397\nCost after iteration 2600: 0.296272\nCost after iteration 2700: 0.293308\nCost after iteration 2800: 0.290467\nCost after iteration 2900: 0.287715\nCost after iteration 3000: 0.285043\nCost after iteration 3100: 0.282494\nCost after iteration 3200: 0.280077\nCost after iteration 3300: 0.277768\nCost after iteration 3400: 0.275532\nCost after iteration 3500: 0.273395\nCost after iteration 3600: 0.271365\nCost after iteration 3700: 0.269421\nCost after iteration 3800: 0.267569\nCost after iteration 3900: 0.265822\nCost after iteration 4000: 0.264147\nCost after iteration 4100: 0.262534\nCost after iteration 4200: 0.260988\nCost after iteration 4300: 0.259503\nCost after iteration 4400: 0.258076\nCost after iteration 4500: 0.256735\nCost after iteration 4600: 0.255461\nCost after iteration 4700: 0.254239\nCost after iteration 4800: 0.253068\nCost after iteration 4900: 0.251965\n",
          "name": "stdout"
        },
        {
          "output_type": "display_data",
          "data": {
            "image/png": "[encoded data removed]",
            "text/plain": "<Figure size 432x288 with 1 Axes>"
          },
          "metadata": {
            "needs_background": "light"
          }
        },
        {
          "output_type": "stream",
          "text": "The F-score: 0.879121 and accuracy: 0.886986\n",
          "name": "stdout"
        }
      ]
    },
    {
      "metadata": {
        "trusted": true
      },
      "cell_type": "code",
      "source": "",
      "execution_count": null,
      "outputs": []
    },
    {
      "metadata": {
        "trusted": true
      },
      "cell_type": "code",
      "source": "",
      "execution_count": null,
      "outputs": []
    }
  ],
  "metadata": {
    "kernelspec": {
      "name": "python36",
      "display_name": "Python 3.6",
      "language": "python"
    },
    "language_info": {
      "mimetype": "text/x-python",
      "nbconvert_exporter": "python",
      "name": "python",
      "pygments_lexer": "ipython3",
      "version": "3.6.6",
      "file_extension": ".py",
      "codemirror_mode": {
        "version": 3,
        "name": "ipython"
      }
    },
    "celltoolbar": "Raw Cell Format"
  },
  "nbformat": 4,
  "nbformat_minor": 2
}