{
  "cells": [
    {
      "metadata": {
        "trusted": true
      },
      "cell_type": "code",
      "source": "#--import block--\nimport pandas as pd\nimport numpy as np\n#!pip install scikit-learn\nfrom sklearn import preprocessing\nfrom sklearn.neural_network import MLPClassifier\nfrom sklearn.metrics import classification_report, confusion_matrix, accuracy_score\nfrom sklearn.model_selection import train_test_split",
      "execution_count": 6,
      "outputs": []
    },
    {
      "metadata": {
        "trusted": true
      },
      "cell_type": "code",
      "source": "#--raw data--\ndata_orig = pd.read_csv('housepricedata.csv')\n#print(data_orig)\nX_orig = data_orig.iloc[:,0:10].values\nY_orig = data_orig.iloc[:,10].values\nprint(X_orig,Y_orig)\n#train_orig, test_orig = np.split(data_orig,[int(.8*len(data_orig))])\n#print(train_orig)",
      "execution_count": 7,
      "outputs": [
        {
          "output_type": "stream",
          "text": "[[ 8450     7     5 ...     8     0   548]\n [ 9600     6     8 ...     6     1   460]\n [11250     7     5 ...     6     1   608]\n ...\n [ 9042     7     9 ...     9     2   252]\n [ 9717     5     6 ...     5     0   240]\n [ 9937     5     6 ...     6     0   276]] [1 1 1 ... 1 0 0]\n",
          "name": "stdout"
        }
      ]
    },
    {
      "metadata": {
        "trusted": true
      },
      "cell_type": "code",
      "source": "#--train and test data(80:20)--\nX_train, X_test, Y_train, Y_test = train_test_split(X_orig, Y_orig, test_size=0.2)\n#X_train = train_orig.iloc[:,0:10].values\n#Y_train = train_orig.iloc[:,10].values\n#print(X_train,Y_train)\n#X_test = test_orig.iloc[:,0:10].values\n#Y_test = test_orig.iloc[:,10].values\n#--scaling--\nscale = preprocessing.StandardScaler().fit(X_train)\nX_train_new = scale.transform(X_train)\nX_test_new = scale.transform(X_test)\n#print(X_train_new,X_test_new)",
      "execution_count": 8,
      "outputs": [
        {
          "output_type": "stream",
          "text": "/home/nbuser/anaconda3_501/lib/python3.6/site-packages/sklearn/utils/validation.py:595: DataConversionWarning: Data with input dtype int64 was converted to float64 by StandardScaler.\n  warnings.warn(msg, DataConversionWarning)\n/home/nbuser/anaconda3_501/lib/python3.6/site-packages/sklearn/utils/validation.py:595: DataConversionWarning: Data with input dtype int64 was converted to float64 by StandardScaler.\n  warnings.warn(msg, DataConversionWarning)\n/home/nbuser/anaconda3_501/lib/python3.6/site-packages/sklearn/utils/validation.py:595: DataConversionWarning: Data with input dtype int64 was converted to float64 by StandardScaler.\n  warnings.warn(msg, DataConversionWarning)\n",
          "name": "stderr"
        }
      ]
    },
    {
      "metadata": {
        "trusted": true
      },
      "cell_type": "code",
      "source": "#--the neural net--\nres = MLPClassifier(hidden_layer_sizes=(1000,1000),max_iter=1000)\nres.fit(X_train_new, Y_train.ravel())\npred_res = res.predict(X_test_new)",
      "execution_count": 9,
      "outputs": []
    },
    {
      "metadata": {
        "trusted": true
      },
      "cell_type": "code",
      "source": "#--results--\nprint(confusion_matrix(Y_test,pred_res))\nprint(classification_report(Y_test,pred_res))\nprint(accuracy_score(Y_test,pred_res))",
      "execution_count": 10,
      "outputs": [
        {
          "output_type": "stream",
          "text": "[[138  23]\n [ 14 117]]\n              precision    recall  f1-score   support\n\n           0       0.91      0.86      0.88       161\n           1       0.84      0.89      0.86       131\n\n   micro avg       0.87      0.87      0.87       292\n   macro avg       0.87      0.88      0.87       292\nweighted avg       0.88      0.87      0.87       292\n\n0.8732876712328768\n",
          "name": "stdout"
        }
      ]
    },
    {
      "metadata": {
        "trusted": true
      },
      "cell_type": "code",
      "source": "",
      "execution_count": null,
      "outputs": []
    }
  ],
  "metadata": {
    "kernelspec": {
      "name": "python36",
      "display_name": "Python 3.6",
      "language": "python"
    },
    "language_info": {
      "mimetype": "text/x-python",
      "nbconvert_exporter": "python",
      "name": "python",
      "pygments_lexer": "ipython3",
      "version": "3.6.6",
      "file_extension": ".py",
      "codemirror_mode": {
        "version": 3,
        "name": "ipython"
      }
    }
  },
  "nbformat": 4,
  "nbformat_minor": 1
}